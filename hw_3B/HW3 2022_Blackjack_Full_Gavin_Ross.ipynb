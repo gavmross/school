{
 "cells": [
  {
   "cell_type": "markdown",
   "metadata": {},
   "source": [
    " due in 10 days (Sept. 12 Midnight)\n",
    " \n",
    " total 30 points \n"
   ]
  },
  {
   "cell_type": "markdown",
   "metadata": {},
   "source": [
    "\n",
    "## We will practice more on Python\n",
    "     - functions. Simplify your code with using as many functions as possible.\n",
    "     - random\n",
    "     - logic\n",
    "     - if-condition\n",
    "     - loops\n",
    "     - list to store data\n",
    "     - documentation\n",
    "\n",
    "\n"
   ]
  },
  {
   "cell_type": "markdown",
   "metadata": {},
   "source": [
    "## CSC 530 Students: Full version\n",
    "\n",
    "This is a blackjack program. In the beginning, you have $1000 to play the game. \n",
    "    \n",
    "    You and the dealer are given a deck of 52 cards shuffled. \n",
    "  \n",
    "    For each game, you need to bet some money, say x dollars. \n",
    "      - if you win, your total money = 1000 + x\n",
    "      - if you lose, your total money = 1000 -x\n",
    "      - if you tie with the program, your money has no change.\n",
    "    \n",
    "         \n",
    "    Game Rules:\n",
    "    (1) At first, you, the player, need to bet some money. \n",
    "    \n",
    "    (2 ) Draw two card from the top of the deck for the player. Then convert card face number to points:\n",
    "        - Ace:    11 points\n",
    "        - Jack:   10 points\n",
    "        - Queen:  10 points\n",
    "        - King:   10 points\n",
    "        - Others: points = card face number\n",
    "        \n",
    "    (3) Do the same for dealer in the same manner. \n",
    "    \n",
    "    (4) Hide dealer's cards and total points to player. Display only player's cards and points.  \n",
    "    \n",
    "    (5) After you see your first two cards, you have the 2 more chances to draw an additional card (hit). You also can pass (stand) without drawing any more cards. If total points > 21, it goes bust, then points = 0. \n",
    "    \n",
    "    (6) If you draw an additional card, dealer will do the same.The bust also applies to the dealer.\n",
    "    \n",
    "    (7) Display all physical cards and total points (yours and dealer)\n",
    "    \n",
    "    (8) Compare your total points with dealer's:  \n",
    "        - if yours is higher than the dealer's, you win\n",
    "        - if equal, tie\n",
    "        - if yours is lower, you lose  \n",
    "        \n",
    "    (9) Now you finish one game.\n",
    "    \n",
    "    The program will ask if the player plays again or not. Player can play until you want to quit or no more money left or not card left in the deck. Finally, the game is over. Print out the player's balance($ amount).\n",
    "\n",
    "\n",
    "\n",
    "-----------------\n",
    "   - Ignore the Blackjack(If you start (Ace & 10) )\n",
    "   \n",
    "   - 'Hit': ask for another card. \n",
    "   - 'Stand':hold your total and end a game. \n",
    "   - 'Bust': over 21 points\n",
    "  \n",
    "  "
   ]
  },
  {
   "cell_type": "code",
   "execution_count": 4,
   "metadata": {
    "ExecuteTime": {
     "end_time": "2022-10-03T17:30:17.332450Z",
     "start_time": "2022-10-03T17:30:17.325450Z"
    }
   },
   "outputs": [
    {
     "name": "stdout",
     "output_type": "stream",
     "text": [
      "Collecting package metadata (current_repodata.json): done\n",
      "Solving environment: done\n",
      "\n",
      "# All requested packages already installed.\n",
      "\n",
      "Retrieving notices: ...working... done\n",
      "\n",
      "Note: you may need to restart the kernel to use updated packages.\n"
     ]
    }
   ],
   "source": [
    "#conda install ipywidgets"
   ]
  },
  {
   "cell_type": "code",
   "execution_count": 17,
   "metadata": {
    "ExecuteTime": {
     "end_time": "2022-10-03T17:30:17.869455Z",
     "start_time": "2022-10-03T17:30:17.859450Z"
    }
   },
   "outputs": [
    {
     "name": "stdout",
     "output_type": "stream",
     "text": [
      "Enabling notebook extension jupyter-js-widgets/extension...\n",
      "      - Validating: \u001b[32mOK\u001b[0m\n"
     ]
    }
   ],
   "source": [
    "!jupyter nbextension enable --py widgetsnbextension"
   ]
  },
  {
   "cell_type": "code",
   "execution_count": 1,
   "metadata": {
    "ExecuteTime": {
     "end_time": "2022-10-03T19:06:41.138040Z",
     "start_time": "2022-10-03T19:06:41.120007Z"
    }
   },
   "outputs": [
    {
     "name": "stdout",
     "output_type": "stream",
     "text": [
      "['3_of_spades', 'ace_of_hearts', 'jack_of_spades', 'ace_of_spades', '2_of_spades', '10_of_clubs', 'king_of_clubs', '7_of_spades', 'queen_of_hearts', '3_of_clubs', '4_of_diamonds', '4_of_clubs', '5_of_hearts', '8_of_hearts', '5_of_clubs', '6_of_spades', '9_of_spades', '4_of_hearts', '3_of_diamonds', '9_of_hearts', '6_of_diamonds', '5_of_diamonds', 'queen_of_clubs', '6_of_clubs', '2_of_clubs', 'king_of_spades', 'ace_of_diamonds', 'ace_of_clubs', '8_of_diamonds', 'king_of_diamonds', '10_of_hearts', '8_of_spades', '10_of_spades', 'queen_of_spades', 'king_of_hearts', '9_of_clubs', '2_of_hearts', '7_of_hearts', '5_of_spades', '7_of_diamonds', 'jack_of_diamonds', 'jack_of_clubs', '10_of_diamonds', '9_of_diamonds', 'queen_of_diamonds', '8_of_clubs', 'jack_of_hearts', '7_of_clubs', '6_of_hearts', '3_of_hearts', '4_of_spades', '2_of_diamonds']\n"
     ]
    }
   ],
   "source": [
    "# a deck list of shuffled poker cards is given \n",
    "\n",
    "import random \n",
    "\n",
    "# (1)  deck: given list of 52 poker cards.\n",
    "values = [ \"ace\", \"2\", \"3\", \"4\", \"5\", \"6\", \"7\",\"8\", \"9\", \"10\", \"jack\", \"queen\", \"king\" ]\n",
    "suits  = [ \"clubs\", \"diamonds\", \"hearts\", \"spades\" ]\n",
    "deck = [ v +\"_of_\"+ s for s in suits for v in values  ] \n",
    "random.shuffle(deck) \n",
    "\n",
    "print(deck)"
   ]
  },
  {
   "cell_type": "code",
   "execution_count": 2,
   "metadata": {
    "ExecuteTime": {
     "end_time": "2022-10-03T19:06:45.127516Z",
     "start_time": "2022-10-03T19:06:41.727984Z"
    }
   },
   "outputs": [
    {
     "data": {
      "application/vnd.jupyter.widget-view+json": {
       "model_id": "2e64261f17454ce8911ca0fd4feed5a1",
       "version_major": 2,
       "version_minor": 0
      },
      "text/plain": [
       "HBox(children=(Image(value=b'\\x89PNG\\r\\n\\x1a\\n\\x00\\x00\\x00\\rIHDR\\x00\\x00\\x01\\xf4\\x00\\x00\\x02\\xd6\\x08\\x06\\x00\\x…"
      ]
     },
     "metadata": {},
     "output_type": "display_data"
    }
   ],
   "source": [
    "# card_display.py: given module for card display\n",
    "# to use it: import card_display\n",
    "    \n",
    "# (1) import card_display.py for card display and rename it as cd\n",
    "import card_display as cd\n",
    "\n",
    "card_1 = deck.pop(0) # draw the first card and display it: passing a list \n",
    "cd.card_display([card_1])\n",
    "\n",
    "# # # or draw again and display two cards \n",
    "card_2 = deck.pop(0) \n",
    "print(card_2)\n",
    "cd.card_display([card_1, card_2])\n",
    "\n",
    "\n",
    "# (3) pause a moment and clear the screen\n",
    "import time\n",
    "from IPython.display import clear_output\n",
    "time.sleep(3)                      # pasue 3 seconds\n",
    "clear_output(wait=False)           # clear the screen\n",
    "\n",
    "# # display 50 left cards in the deck\n",
    "cd.card_display(deck)         \n"
   ]
  },
  {
   "cell_type": "code",
   "execution_count": 3,
   "metadata": {
    "ExecuteTime": {
     "end_time": "2022-10-03T19:19:39.013337Z",
     "start_time": "2022-10-03T19:19:38.961284Z"
    }
   },
   "outputs": [
    {
     "name": "stdout",
     "output_type": "stream",
     "text": [
      "The Card_num: 10 \tCard_name: jack_of_spades\n"
     ]
    },
    {
     "data": {
      "application/vnd.jupyter.widget-view+json": {
       "model_id": "092095c597464d5da4d270c891a8ff6c",
       "version_major": 2,
       "version_minor": 0
      },
      "text/plain": [
       "HBox(children=(Image(value=b'\\x89PNG\\r\\n\\x1a\\n\\x00\\x00\\x00\\rIHDR\\x00\\x00\\x01\\xf4\\x00\\x00\\x02\\xd6\\x08\\x06\\x00\\x…"
      ]
     },
     "metadata": {},
     "output_type": "display_data"
    },
    {
     "name": "stdout",
     "output_type": "stream",
     "text": [
      "The Card_num: 11 \tCard_name: ace_of_spades\n"
     ]
    },
    {
     "data": {
      "application/vnd.jupyter.widget-view+json": {
       "model_id": "511ae319f0b74079b1ad8b77c44010a3",
       "version_major": 2,
       "version_minor": 0
      },
      "text/plain": [
       "HBox(children=(Image(value=b'\\x89PNG\\r\\n\\x1a\\n\\x00\\x00\\x00\\rIHDR\\x00\\x00\\x01\\xf4\\x00\\x00\\x02\\xd6\\x08\\x06\\x00\\x…"
      ]
     },
     "metadata": {},
     "output_type": "display_data"
    }
   ],
   "source": [
    "def draw_card():\n",
    " \n",
    "    \"\"\"\n",
    "    GIVEN FUNCTION:  HW 3.A's Code for this function\n",
    "    \n",
    "      input: none\n",
    "      \n",
    "      return:\n",
    "             card_num:  int type, between 2 to 11\n",
    "             card_name: String type\n",
    "             \n",
    "     for example:  \n",
    "         if you draw \"ace_of_clubs\",     the card_num is 11, the card_name is ace_of_clubs \n",
    "         if you draw \"queen_of_dimonds\", the card_num is 10, the card_name is queen_of_dimonds\n",
    "         if you draw \"5_of_spades\",      the card_num is 5,  the card_name is 5_of_spades\n",
    "    \"\"\"\n",
    "    card_name = deck.pop(0)\n",
    "    card_num = card_name.split(\"_\")[0]\n",
    "\n",
    "    if card_num.isdigit():\n",
    "        card_num = int(card_num)\n",
    "    else:\n",
    "        if  card_num == \"ace\":\n",
    "            card_num = 11\n",
    "        else: \n",
    "            card_num = 10\n",
    "    return card_num, card_name  \n",
    "\n",
    "\n",
    "\n",
    "# # ----------------test -------------------\n",
    "\n",
    "point1, card1 = draw_card()\n",
    "print(\"The Card_num:\", point1, \"\\tCard_name:\", card1)\n",
    "cd.card_display([card1])\n",
    "\n",
    "# display two cards\n",
    "point2, card2 = draw_card()\n",
    "print(\"The Card_num:\", point2, \"\\tCard_name:\", card2)\n",
    "cd.card_display([card1, card2])\n"
   ]
  },
  {
   "cell_type": "code",
   "execution_count": 10,
   "metadata": {
    "ExecuteTime": {
     "end_time": "2022-10-03T19:14:56.782284Z",
     "start_time": "2022-10-03T19:14:56.772243Z"
    }
   },
   "outputs": [],
   "source": [
    "# Use as many as functions\n",
    "\n",
    "# Your code starts here\n",
    "# Need to draw cards for player, then dealer, then get input if want to keep going, then calculate bet\n",
    "def main():\n",
    "    global money \n",
    "    money = 1000\n",
    "    player_cards = []\n",
    "    dealer_cards = []\n",
    "    \n",
    "    # Get bet from player and return it\n",
    "    \n",
    "    start = input('Do you want to play a hand? y/n:')       # ask to play\n",
    "    play = True                                             # helper variable to help when calling all of the functions\n",
    "    if start == 'y':\n",
    "        p_bet = input(\"How much money do you want to bet?: $\")     # if yes, put in a bet\n",
    "        if int(p_bet) <= money:                                           # check if they have enough money to bet\n",
    "            pass  \n",
    "        else:\n",
    "            print('Not enough money!')\n",
    "            return main()                                           # if not enough money, call the function again\n",
    "    else:\n",
    "        play = False\n",
    "        print('Goodbye')\n",
    "        return play                                        # when calling all functions, if play = False, then do not run any other function\n",
    "\n",
    "    def draw_display_player():\n",
    "        # Draw two cards for player \n",
    "        num1, name1 = draw_card()   # return tuple of (card num, card name)\n",
    "        num2, name2 = draw_card()\n",
    "        print('PLAYER CARDS')\n",
    "        print(\"Card 1 points:\", num1, \"\\t Card 1 Name\", name1)   # print point and card like in example\n",
    "        print(\"Card 2 points:\", num2, \"\\t Card 2 Name\", name2)\n",
    "        cd.card_display([name1, name2])                          # display first two cards\n",
    "        player_cards.append((num1, name1))\n",
    "        player_cards.append((num2, name2))\n",
    "    def draw_dealer():\n",
    "        # Draw two cards for dealer \n",
    "        num1, name1 = draw_card()   # return tuple of (card num, card name)\n",
    "        num2, name2 = draw_card()                          # display first two cards\n",
    "        dealer_cards.append((num1, name1))\n",
    "        dealer_cards.append((num2, name2))\n",
    "\n",
    "\n",
    "    def display_dealer(dealer_card_list):\n",
    "        # Parse draw_player() to get points and cards\n",
    "        print('DEALER CARDS')\n",
    "        for i in range(len(dealer_card_list)):\n",
    "            point = dealer_card_list[i][0]\n",
    "            card = dealer_card_list[i][1]\n",
    "        \n",
    "            print(f\"Card {i} points:\", point, f\"\\t Card {i} Name\", card)   # print point and card like in example\n",
    "    \n",
    "        cd.card_display([card[1] for card in dealer_card_list])                             # display both cards after printing out points and card name\n",
    "\n",
    "    def hit_stand():\n",
    "        # ask if you want to draw another card, after only displaying players cards\n",
    "        # if player draws, so does dealer\n",
    "        player_points = 0\n",
    "        dealer_points = 0\n",
    "        count = 0\n",
    "        for i in range(len(player_cards)):\n",
    "            player_points += player_cards[i][0]                         # total points. it is first index in each tuple\n",
    "            dealer_points += dealer_cards[i][0]\n",
    "        print('Your total points are:', player_points)\n",
    "        if count < 3:  \n",
    "            count += 1                                              # can only hit twice\n",
    "            hit_or_stand = input('Do you want to hit or stand?:')\n",
    "            \n",
    "            if hit_or_stand == 'hit':\n",
    "                print(\"PLAYER NEW CARD\")\n",
    "                p_point, p_card = draw_card()                           # if hit, draw another card and display it\n",
    "                print(\"Card Points:\", p_point, \"\\t Card Name\", p_card)\n",
    "                cd.card_display([p_card])\n",
    "\n",
    "                player_cards.append((p_point, p_card))                  # keep track of player cards\n",
    "                player_points += p_point                                # calculate new total points for player\n",
    "                print('Your new total points are:', player_points)      # Show player his new points\n",
    "\n",
    "                                            \n",
    "                d_point, d_card = draw_card()                           # if hit, dealer must draw\n",
    "                dealer_cards.append((d_point, d_card))                  # keep track of dealer cards\n",
    "                dealer_points += d_point                                # calc new total points for dealer\n",
    "\n",
    "                player_bust = False                                 # variables to keep track of who busts\n",
    "                dealer_bust = False\n",
    "\n",
    "                if player_points > 21:                               # check if points are > 21, if it is then update tracking variable  \n",
    "                    player_bust = True\n",
    "                if dealer_points > 21:\n",
    "                    dealer_bust = True\n",
    "                \n",
    "                if player_bust and dealer_bust:                     # Check to see if both busted first, in which case it is a tie\n",
    "                    print(\"Player points:\", player_points)\n",
    "                    display_dealer(dealer_cards)\n",
    "                    print(\"Dealer points:\", dealer_points)\n",
    "                    return 'Tie'    \n",
    "                    \n",
    "                elif player_bust:                                   # If both didnt bust, check to see if only the player did\n",
    "                    print(\"Player points:\", player_points)\n",
    "                    display_dealer(dealer_cards)\n",
    "                    print(\"Dealer points:\", dealer_points)\n",
    "                    return 'Loss'\n",
    "                    \n",
    "                elif dealer_bust:                                   # If player didnt, check to see if dealer did\n",
    "                    print(\"Player points:\", player_points)\n",
    "                    display_dealer(dealer_cards)\n",
    "                    print(\"Dealer points:\", dealer_points)\n",
    "                    return 'Win'\n",
    "                    \n",
    "                else:                                               # if no one did, pass and go back to top to ask to hit or stand\n",
    "                    pass\n",
    "                \n",
    "                \n",
    "\n",
    "            else:                                                   # if no hit, return points \n",
    "                return player_points, dealer_points\n",
    "        \n",
    "\n",
    "    def compare(hit_stand_):\n",
    "        if hit_stand_ == 'Tie':                                     # Check to see if anyone busted\n",
    "            print(\"It's a tie!\")\n",
    "            return 'Tie'\n",
    "        if hit_stand_ == 'Loss':\n",
    "            print('Player loses!')\n",
    "            return 'Loss'\n",
    "        elif hit_stand_ == 'Win':\n",
    "            print('Player wins!')\n",
    "            return 'Loss'\n",
    "        else:\n",
    "            p_points, d_points = hit_stand_                         # if no bust, compare points \n",
    "            if p_points > d_points:\n",
    "                print('Player wins!')\n",
    "                display_dealer(dealer_cards)\n",
    "                print(\"Dealer points:\", d_points)\n",
    "                return 'Win'\n",
    "            elif p_points < d_points:\n",
    "                print('Player loses!')\n",
    "                display_dealer(dealer_cards)\n",
    "                print(\"Dealer points:\", d_points)\n",
    "                return 'Loss'\n",
    "            else:\n",
    "                print(\"It's a tie!\")\n",
    "                display_dealer(dealer_cards)\n",
    "                print(\"Dealer points:\", d_points)\n",
    "                return \"Tie\"\n",
    "\n",
    "    def play_again(compare_):\n",
    "        global money\n",
    "        if compare_ == 'Win':\n",
    "            money += int(p_bet)\n",
    "        elif compare_ == \"Loss\":\n",
    "            money -= int(p_bet)\n",
    "        elif compare_ == 'Tie':\n",
    "            pass \n",
    "        \n",
    "        print(f'You have ${money} left')\n",
    "        if money > 0:\n",
    "            again = input(f'Do you want to play again? y/n:')\n",
    "            if again == 'y':\n",
    "                clear_output(wait=False) \n",
    "                main()\n",
    "            else:\n",
    "                print(\"Goodbye!\")\n",
    "        else:\n",
    "            print('You are broke!')\n",
    "    \n",
    "    draw_display_player()\n",
    "    draw_dealer()\n",
    "    play_again(compare(hit_stand()))\n"
   ]
  },
  {
   "cell_type": "code",
   "execution_count": 11,
   "metadata": {},
   "outputs": [
    {
     "name": "stdout",
     "output_type": "stream",
     "text": [
      "PLAYER CARDS\n",
      "Card 1 points: 10 \t Card 1 Name 10_of_hearts\n",
      "Card 2 points: 8 \t Card 2 Name 8_of_spades\n"
     ]
    },
    {
     "data": {
      "application/vnd.jupyter.widget-view+json": {
       "model_id": "74ead49ebca1404eb9961e3f6448b796",
       "version_major": 2,
       "version_minor": 0
      },
      "text/plain": [
       "HBox(children=(Image(value=b'\\x89PNG\\r\\n\\x1a\\n\\x00\\x00\\x00\\rIHDR\\x00\\x00\\x01\\xf4\\x00\\x00\\x02\\xd6\\x08\\x06\\x00\\x…"
      ]
     },
     "metadata": {},
     "output_type": "display_data"
    },
    {
     "name": "stdout",
     "output_type": "stream",
     "text": [
      "Your total points are: 18\n",
      "Player loses!\n",
      "DEALER CARDS\n",
      "Card 0 points: 10 \t Card 0 Name 10_of_spades\n",
      "Card 1 points: 10 \t Card 1 Name queen_of_spades\n"
     ]
    },
    {
     "data": {
      "application/vnd.jupyter.widget-view+json": {
       "model_id": "e8147d0dac6a4ffd8d75e2604f402d07",
       "version_major": 2,
       "version_minor": 0
      },
      "text/plain": [
       "HBox(children=(Image(value=b'\\x89PNG\\r\\n\\x1a\\n\\x00\\x00\\x00\\rIHDR\\x00\\x00\\x01\\xf4\\x00\\x00\\x02\\xd6\\x08\\x06\\x00\\x…"
      ]
     },
     "metadata": {},
     "output_type": "display_data"
    },
    {
     "name": "stdout",
     "output_type": "stream",
     "text": [
      "Dealer points: 20\n",
      "You have $950 left\n",
      "Goodbye!\n"
     ]
    }
   ],
   "source": [
    "main()"
   ]
  },
  {
   "cell_type": "code",
   "execution_count": 10,
   "metadata": {
    "ExecuteTime": {
     "end_time": "2021-10-13T17:29:14.049294Z",
     "start_time": "2021-10-13T17:29:14.037327Z"
    }
   },
   "outputs": [],
   "source": [
    "# end"
   ]
  }
 ],
 "metadata": {
  "hide_input": false,
  "kernelspec": {
   "display_name": "Python 3.9.13 ('datasci_env')",
   "language": "python",
   "name": "python3"
  },
  "language_info": {
   "codemirror_mode": {
    "name": "ipython",
    "version": 3
   },
   "file_extension": ".py",
   "mimetype": "text/x-python",
   "name": "python",
   "nbconvert_exporter": "python",
   "pygments_lexer": "ipython3",
   "version": "3.9.13"
  },
  "toc": {
   "base_numbering": 1,
   "nav_menu": {},
   "number_sections": true,
   "sideBar": true,
   "skip_h1_title": false,
   "title_cell": "Table of Contents",
   "title_sidebar": "Contents",
   "toc_cell": false,
   "toc_position": {},
   "toc_section_display": true,
   "toc_window_display": false
  },
  "varInspector": {
   "cols": {
    "lenName": 16,
    "lenType": 16,
    "lenVar": 40
   },
   "kernels_config": {
    "python": {
     "delete_cmd_postfix": "",
     "delete_cmd_prefix": "del ",
     "library": "var_list.py",
     "varRefreshCmd": "print(var_dic_list())"
    },
    "r": {
     "delete_cmd_postfix": ") ",
     "delete_cmd_prefix": "rm(",
     "library": "var_list.r",
     "varRefreshCmd": "cat(var_dic_list()) "
    }
   },
   "types_to_exclude": [
    "module",
    "function",
    "builtin_function_or_method",
    "instance",
    "_Feature"
   ],
   "window_display": false
  },
  "vscode": {
   "interpreter": {
    "hash": "0ceb7bdb75909dd04446f2aabfbd74a860ae01334b686659b7f04454d56adc48"
   }
  }
 },
 "nbformat": 4,
 "nbformat_minor": 2
}
