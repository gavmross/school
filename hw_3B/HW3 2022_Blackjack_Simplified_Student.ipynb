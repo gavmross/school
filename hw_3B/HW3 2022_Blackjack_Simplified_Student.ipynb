{
 "cells": [
  {
   "cell_type": "markdown",
   "metadata": {},
   "source": [
    " due in 10 days (Sept. 12 Midnight)\n",
    " \n",
    " total 30 points \n"
   ]
  },
  {
   "cell_type": "markdown",
   "metadata": {},
   "source": [
    "\n",
    "## We will practice more on Python\n",
    "     - functions. Simplify your code with using as many functions as possible.\n",
    "     - random\n",
    "     - logic\n",
    "     - if-condition\n",
    "     - loops\n",
    "     - list to store data\n",
    "     - documentation\n",
    "\n",
    "\n"
   ]
  },
  {
   "cell_type": "markdown",
   "metadata": {},
   "source": [
    "## For DA and CSC 430 students: Simplified version:\n",
    "    This is a blackjack program. In the beginning, you have $1000 to play the game. \n",
    "    \n",
    "    You and the dealer are given a deck of 52 cards shuffled. \n",
    "  \n",
    "    For each game, you need to bet some money, say x dollars. \n",
    "      - if you win, your total money = 1000 + x\n",
    "      - if you lose, your total money = 1000 -x\n",
    "      - if you tie with the program, your money has no change.\n",
    "    \n",
    "         \n",
    "    Game Rules:\n",
    "    (1) At first, you, the player, need to bet some money. \n",
    "    \n",
    "    (2 ) Draw two card from the top of the deck for the player. Then convert card face number to points:\n",
    "        - Ace:    11 points\n",
    "        - Jack:   10 points\n",
    "        - Queen:  10 points\n",
    "        - King:   10 points\n",
    "        - Others: points = card face number\n",
    "        \n",
    "    (3) Do the same for dealer in the same manner. \n",
    "    \n",
    "    (4) Display all physical cards and total points (yours and dealer)\n",
    "    \n",
    "    (5) Compare your total points with dealer's:  \n",
    "        - if yours is higher than the dealer's, you win\n",
    "        - if equal, tie\n",
    "        - if yours is lower, you lose  \n",
    "        \n",
    "    (5) Now you finish one game.\n",
    "    \n",
    "    The program will ask if the player plays again or not. Player can play until you want to quit or no more money left or not card left in the deck. Finally, the game is over. Print out the player's balance($ amount).\n",
    "\n",
    " \n",
    "-----------------\n",
    "       - Ignore the Blackjack(If you start (Ace & 10) )\n",
    "\n",
    "       - 'Hit': ask for another card. \n",
    "       - 'Stand':hold your total and end a game. \n",
    "       - 'Bust': over 21 points\n"
   ]
  },
  {
   "cell_type": "code",
   "execution_count": 14,
   "metadata": {
    "ExecuteTime": {
     "end_time": "2022-10-03T19:09:12.096915Z",
     "start_time": "2022-10-03T19:09:12.091942Z"
    }
   },
   "outputs": [],
   "source": [
    "# pip install  ipywidgets"
   ]
  },
  {
   "cell_type": "code",
   "execution_count": 15,
   "metadata": {
    "ExecuteTime": {
     "end_time": "2022-10-03T19:09:12.660972Z",
     "start_time": "2022-10-03T19:09:12.650948Z"
    }
   },
   "outputs": [],
   "source": [
    "# !jupyter nbextension enable --py widgetsnbextension"
   ]
  },
  {
   "cell_type": "code",
   "execution_count": 16,
   "metadata": {
    "ExecuteTime": {
     "end_time": "2022-10-03T19:09:13.364397Z",
     "start_time": "2022-10-03T19:09:13.353363Z"
    }
   },
   "outputs": [
    {
     "name": "stdout",
     "output_type": "stream",
     "text": [
      "['5_of_spades', 'jack_of_clubs', 'king_of_clubs', '4_of_clubs', 'ace_of_clubs', '5_of_clubs', 'jack_of_diamonds', '5_of_hearts', '7_of_clubs', '3_of_hearts', '10_of_spades', '2_of_hearts', '9_of_clubs', 'ace_of_diamonds', 'king_of_spades', 'king_of_diamonds', '5_of_diamonds', '7_of_hearts', '10_of_clubs', '8_of_spades', 'king_of_hearts', 'jack_of_spades', '3_of_diamonds', '8_of_hearts', '4_of_spades', '7_of_diamonds', 'queen_of_spades', 'jack_of_hearts', '6_of_hearts', '4_of_diamonds', '6_of_spades', '9_of_diamonds', '6_of_diamonds', '8_of_clubs', '8_of_diamonds', '2_of_diamonds', 'queen_of_clubs', '10_of_hearts', '4_of_hearts', '2_of_spades', 'queen_of_hearts', '7_of_spades', '3_of_clubs', '2_of_clubs', '10_of_diamonds', '6_of_clubs', '3_of_spades', '9_of_hearts', 'ace_of_spades', '9_of_spades', 'queen_of_diamonds', 'ace_of_hearts']\n"
     ]
    }
   ],
   "source": [
    "# a deck list of shuffled poker cards is given \n",
    "\n",
    "import random \n",
    "\n",
    "# (1)  deck: given list of 52 poker cards.\n",
    "values = [ \"ace\", \"2\", \"3\", \"4\", \"5\", \"6\", \"7\",\"8\", \"9\", \"10\", \"jack\", \"queen\", \"king\" ]\n",
    "suits  = [ \"clubs\", \"diamonds\", \"hearts\", \"spades\" ]\n",
    "deck = [ v +\"_of_\"+ s for s in suits for v in values  ] \n",
    "random.shuffle(deck) \n",
    "\n",
    "print(deck)"
   ]
  },
  {
   "cell_type": "code",
   "execution_count": 17,
   "metadata": {
    "ExecuteTime": {
     "end_time": "2022-10-03T19:09:17.686354Z",
     "start_time": "2022-10-03T19:09:14.306652Z"
    }
   },
   "outputs": [
    {
     "data": {
      "application/vnd.jupyter.widget-view+json": {
       "model_id": "638ee84e60614eacba4170216a054310",
       "version_major": 2,
       "version_minor": 0
      },
      "text/plain": [
       "HBox(children=(Image(value=b'\\x89PNG\\r\\n\\x1a\\n\\x00\\x00\\x00\\rIHDR\\x00\\x00\\x01\\xf4\\x00\\x00\\x02\\xd6\\x08\\x06\\x00\\x…"
      ]
     },
     "metadata": {},
     "output_type": "display_data"
    }
   ],
   "source": [
    "# card_display.py: given module for card display\n",
    "# to use it: import card_display\n",
    "    \n",
    "# (1) import card_display.py for card display and rename it as cd\n",
    "import card_display as cd\n",
    "\n",
    "card_1 = deck.pop(0) # draw the first card and display it: passing a list \n",
    "cd.card_display([card_1])\n",
    "\n",
    "# # # or draw again and display two cards \n",
    "card_2 = deck.pop(0) \n",
    "print(card_2)\n",
    "cd.card_display([card_1, card_2])\n",
    "\n",
    "\n",
    "# (3) pause a moment and clear the screen\n",
    "import time\n",
    "from IPython.display import clear_output\n",
    "time.sleep(3)                      # pasue 3 seconds\n",
    "clear_output(wait=False)           # clear the screen\n",
    "\n",
    "# # display 50 left cards in the deck\n",
    "cd.card_display(deck)         \n"
   ]
  },
  {
   "cell_type": "code",
   "execution_count": 19,
   "metadata": {
    "ExecuteTime": {
     "end_time": "2022-10-03T19:20:19.944913Z",
     "start_time": "2022-10-03T19:20:19.903878Z"
    }
   },
   "outputs": [
    {
     "data": {
      "application/vnd.jupyter.widget-view+json": {
       "model_id": "3764f3c574124c8684a6676261d34bc4",
       "version_major": 2,
       "version_minor": 0
      },
      "text/plain": [
       "HBox(children=(Image(value=b'\\x89PNG\\r\\n\\x1a\\n\\x00\\x00\\x00\\rIHDR\\x00\\x00\\x01\\xf4\\x00\\x00\\x02\\xd6\\x08\\x06\\x00\\x…"
      ]
     },
     "metadata": {},
     "output_type": "display_data"
    },
    {
     "name": "stdout",
     "output_type": "stream",
     "text": [
      "Card points: 11 \tCard: ace_of_clubs\n"
     ]
    },
    {
     "data": {
      "application/vnd.jupyter.widget-view+json": {
       "model_id": "b50924ada26f4f9684f43328830579fb",
       "version_major": 2,
       "version_minor": 0
      },
      "text/plain": [
       "HBox(children=(Image(value=b'\\x89PNG\\r\\n\\x1a\\n\\x00\\x00\\x00\\rIHDR\\x00\\x00\\x01\\xf4\\x00\\x00\\x02\\xd6\\x08\\x06\\x00\\x…"
      ]
     },
     "metadata": {},
     "output_type": "display_data"
    },
    {
     "name": "stdout",
     "output_type": "stream",
     "text": [
      "Card points: 5 \tCard: 5_of_clubs\n"
     ]
    }
   ],
   "source": [
    "def draw_card():\n",
    " \n",
    "    \"\"\"\n",
    "    GIVEN FUNCTION:  the HW 3.A code for this function\n",
    "    \n",
    "      input: none\n",
    "      \n",
    "      return:\n",
    "             card_num:  int type, between 2 to 11\n",
    "             card_name: String type\n",
    "             \n",
    "     for example:  \n",
    "         if you draw \"ace_of_clubs\",     the card_num is 11, the card_name is ace_of_clubs \n",
    "         if you draw \"queen_of_dimonds\", the card_num is 10, the card_name is queen_of_dimonds\n",
    "         if you draw \"5_of_spades\",      the card_num is 5,  the card_name is 5_of_spades\n",
    "    \"\"\"\n",
    "    card_name= deck.pop(0)\n",
    "    card_num = card_name.split(\"_\")[0]\n",
    "\n",
    "    if card_num.isdigit():\n",
    "        card_num = int(card_num)\n",
    "    else:\n",
    "        if  card_num == \"ace\":\n",
    "            card_num = 11\n",
    "        else: \n",
    "            card_num = 10\n",
    "    return card_num, card_name  \n",
    "\n",
    "\n",
    "\n",
    "# # ----------------test -------------------\n",
    "point1, card1 = draw_card()\n",
    "cd.card_display([card1])\n",
    "print(\"Card points:\", point1, \"\\tCard:\", card1 )\n",
    "\n",
    "# two cards\n",
    "point2, card2 = draw_card()\n",
    "cd.card_display([card1, card2])\n",
    "print(\"Card points:\", point2, \"\\tCard:\", card2 )\n"
   ]
  },
  {
   "cell_type": "code",
   "execution_count": 11,
   "metadata": {
    "ExecuteTime": {
     "end_time": "2022-10-03T19:02:48.000834Z",
     "start_time": "2022-10-03T19:02:47.985837Z"
    }
   },
   "outputs": [],
   "source": [
    "# Your code here, use functions as many as possible\n",
    "\n",
    "\n",
    "\n",
    "\n",
    "\n",
    "\n",
    "\n"
   ]
  },
  {
   "cell_type": "code",
   "execution_count": 12,
   "metadata": {
    "ExecuteTime": {
     "end_time": "2022-10-03T19:03:07.166901Z",
     "start_time": "2022-10-03T19:03:07.160903Z"
    }
   },
   "outputs": [],
   "source": [
    "# end"
   ]
  }
 ],
 "metadata": {
  "hide_input": false,
  "kernelspec": {
   "display_name": "Python 3",
   "language": "python",
   "name": "python3"
  },
  "language_info": {
   "codemirror_mode": {
    "name": "ipython",
    "version": 3
   },
   "file_extension": ".py",
   "mimetype": "text/x-python",
   "name": "python",
   "nbconvert_exporter": "python",
   "pygments_lexer": "ipython3",
   "version": "3.8.8"
  },
  "toc": {
   "base_numbering": 1,
   "nav_menu": {},
   "number_sections": true,
   "sideBar": true,
   "skip_h1_title": false,
   "title_cell": "Table of Contents",
   "title_sidebar": "Contents",
   "toc_cell": false,
   "toc_position": {},
   "toc_section_display": true,
   "toc_window_display": false
  },
  "varInspector": {
   "cols": {
    "lenName": 16,
    "lenType": 16,
    "lenVar": 40
   },
   "kernels_config": {
    "python": {
     "delete_cmd_postfix": "",
     "delete_cmd_prefix": "del ",
     "library": "var_list.py",
     "varRefreshCmd": "print(var_dic_list())"
    },
    "r": {
     "delete_cmd_postfix": ") ",
     "delete_cmd_prefix": "rm(",
     "library": "var_list.r",
     "varRefreshCmd": "cat(var_dic_list()) "
    }
   },
   "types_to_exclude": [
    "module",
    "function",
    "builtin_function_or_method",
    "instance",
    "_Feature"
   ],
   "window_display": false
  }
 },
 "nbformat": 4,
 "nbformat_minor": 2
}
