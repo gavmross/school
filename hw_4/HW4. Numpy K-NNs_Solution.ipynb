{
 "cells": [
  {
   "cell_type": "code",
   "execution_count": null,
   "metadata": {
    "ExecuteTime": {
     "end_time": "2021-11-01T12:53:30.336223Z",
     "start_time": "2021-11-01T12:53:30.317274Z"
    }
   },
   "outputs": [],
   "source": [
    "Your name:\n",
    "\n",
    "points: 50\n",
    "\n",
    "due by Nov. 7 midnight"
   ]
  },
  {
   "attachments": {
    "image.png": {
     "image/png": "[encoded data removed]"
    }
   },
   "cell_type": "markdown",
   "metadata": {},
   "source": [
    "## HW3:  k nearest neighbors:\n",
    "  \n",
    "The heart dataset (given) contains 303 patients  heart-disease diagnoses. Here are the first 5 patients data:\n",
    "\n",
    "![image.png](attachment:image.png)\n",
    "\n",
    " - Columns 1-13 are some lab results.\n",
    "\n",
    " - The last column 'target' shows 1 for 'positive' or 0 for 'negative' \n",
    "\n",
    " - data in a numpy array (code is given)  \n",
    " \n",
    " \n",
    "In this homework, we need to use numpy to work on the k nearest neighbors (kNNs) algorithm.  \n"
   ]
  },
  {
   "attachments": {
    "image.png": {
     "image/png": "[encoded data removed]"
    }
   },
   "cell_type": "markdown",
   "metadata": {},
   "source": [
    " ---- \n",
    "\n",
    "## Step 1. For one patient (use patient ID)\n",
    "   \n",
    "    \n",
    "         - ask user to input a patient's id  (int : 0-302),\n",
    "\n",
    "         - write a function to calculate the Euclidean distance (from this patient to all others)  \n",
    "\n",
    "           **See the formula below, target col should be exclusive**\n",
    "    \n",
    "   ![image.png](attachment:image.png)\n",
    "    \n",
    "          where n is the number of test parameters (n=13).\n",
    "\n",
    "         - find top 5 (k = 5)  most similar patients based on the shortest distances, and track their diagnoses,\n",
    "\n",
    "         - use majority vote to predict this patient's diagnosis and compare it with this patient's actual diagnosis:\n",
    "                 \n",
    "                   1. if they match, there is no error\n",
    "                   2. if they do not match, there is an error\n",
    "         - print out both diagnoses.\n",
    "         \n",
    " "
   ]
  },
  {
   "cell_type": "code",
   "execution_count": 11,
   "metadata": {
    "ExecuteTime": {
     "end_time": "2022-11-07T21:19:25.768098Z",
     "start_time": "2022-11-07T21:19:25.734350Z"
    }
   },
   "outputs": [
    {
     "data": {
      "text/html": [
       "<div>\n",
       "<style scoped>\n",
       "    .dataframe tbody tr th:only-of-type {\n",
       "        vertical-align: middle;\n",
       "    }\n",
       "\n",
       "    .dataframe tbody tr th {\n",
       "        vertical-align: top;\n",
       "    }\n",
       "\n",
       "    .dataframe thead th {\n",
       "        text-align: right;\n",
       "    }\n",
       "</style>\n",
       "<table border=\"1\" class=\"dataframe\">\n",
       "  <thead>\n",
       "    <tr style=\"text-align: right;\">\n",
       "      <th></th>\n",
       "      <th>age</th>\n",
       "      <th>sex</th>\n",
       "      <th>cp</th>\n",
       "      <th>trestbps</th>\n",
       "      <th>chol</th>\n",
       "      <th>fbs</th>\n",
       "      <th>restecg</th>\n",
       "      <th>thalach</th>\n",
       "      <th>exang</th>\n",
       "      <th>oldpeak</th>\n",
       "      <th>slope</th>\n",
       "      <th>ca</th>\n",
       "      <th>thal</th>\n",
       "      <th>target</th>\n",
       "    </tr>\n",
       "  </thead>\n",
       "  <tbody>\n",
       "    <tr>\n",
       "      <th>0</th>\n",
       "      <td>63</td>\n",
       "      <td>1</td>\n",
       "      <td>3</td>\n",
       "      <td>145</td>\n",
       "      <td>233</td>\n",
       "      <td>1</td>\n",
       "      <td>0</td>\n",
       "      <td>150</td>\n",
       "      <td>0</td>\n",
       "      <td>2.3</td>\n",
       "      <td>0</td>\n",
       "      <td>0</td>\n",
       "      <td>1</td>\n",
       "      <td>1</td>\n",
       "    </tr>\n",
       "    <tr>\n",
       "      <th>1</th>\n",
       "      <td>37</td>\n",
       "      <td>1</td>\n",
       "      <td>2</td>\n",
       "      <td>130</td>\n",
       "      <td>250</td>\n",
       "      <td>0</td>\n",
       "      <td>1</td>\n",
       "      <td>187</td>\n",
       "      <td>0</td>\n",
       "      <td>3.5</td>\n",
       "      <td>0</td>\n",
       "      <td>0</td>\n",
       "      <td>2</td>\n",
       "      <td>1</td>\n",
       "    </tr>\n",
       "    <tr>\n",
       "      <th>2</th>\n",
       "      <td>41</td>\n",
       "      <td>0</td>\n",
       "      <td>1</td>\n",
       "      <td>130</td>\n",
       "      <td>204</td>\n",
       "      <td>0</td>\n",
       "      <td>0</td>\n",
       "      <td>172</td>\n",
       "      <td>0</td>\n",
       "      <td>1.4</td>\n",
       "      <td>2</td>\n",
       "      <td>0</td>\n",
       "      <td>2</td>\n",
       "      <td>1</td>\n",
       "    </tr>\n",
       "    <tr>\n",
       "      <th>3</th>\n",
       "      <td>56</td>\n",
       "      <td>1</td>\n",
       "      <td>1</td>\n",
       "      <td>120</td>\n",
       "      <td>236</td>\n",
       "      <td>0</td>\n",
       "      <td>1</td>\n",
       "      <td>178</td>\n",
       "      <td>0</td>\n",
       "      <td>0.8</td>\n",
       "      <td>2</td>\n",
       "      <td>0</td>\n",
       "      <td>2</td>\n",
       "      <td>1</td>\n",
       "    </tr>\n",
       "    <tr>\n",
       "      <th>4</th>\n",
       "      <td>57</td>\n",
       "      <td>0</td>\n",
       "      <td>0</td>\n",
       "      <td>120</td>\n",
       "      <td>354</td>\n",
       "      <td>0</td>\n",
       "      <td>1</td>\n",
       "      <td>163</td>\n",
       "      <td>1</td>\n",
       "      <td>0.6</td>\n",
       "      <td>2</td>\n",
       "      <td>0</td>\n",
       "      <td>2</td>\n",
       "      <td>1</td>\n",
       "    </tr>\n",
       "  </tbody>\n",
       "</table>\n",
       "</div>"
      ],
      "text/plain": [
       "   age  sex  cp  trestbps  chol  fbs  restecg  thalach  exang  oldpeak  slope  \\\n",
       "0   63    1   3       145   233    1        0      150      0      2.3      0   \n",
       "1   37    1   2       130   250    0        1      187      0      3.5      0   \n",
       "2   41    0   1       130   204    0        0      172      0      1.4      2   \n",
       "3   56    1   1       120   236    0        1      178      0      0.8      2   \n",
       "4   57    0   0       120   354    0        1      163      1      0.6      2   \n",
       "\n",
       "   ca  thal  target  \n",
       "0   0     1       1  \n",
       "1   0     2       1  \n",
       "2   0     2       1  \n",
       "3   0     2       1  \n",
       "4   0     2       1  "
      ]
     },
     "metadata": {},
     "output_type": "display_data"
    },
    {
     "data": {
      "text/plain": [
       "(303, 14)"
      ]
     },
     "execution_count": 11,
     "metadata": {},
     "output_type": "execute_result"
    }
   ],
   "source": [
    "# libraries needed\n",
    "import pandas as pd \n",
    "import numpy as np\n",
    "\n",
    "# load in the heart disease data into dataframe\n",
    "data = pd.read_csv(\"heart.csv\")\n",
    "display(data.head() )\n",
    "\n",
    "# use numpy array \n",
    "heart = np.asarray(data)\n",
    "heart.shape"
   ]
  },
  {
   "cell_type": "markdown",
   "metadata": {},
   "source": [
    "# Your code start here "
   ]
  },
  {
   "cell_type": "code",
   "execution_count": 19,
   "metadata": {
    "ExecuteTime": {
     "end_time": "2022-11-07T21:20:41.635513Z",
     "start_time": "2022-11-07T21:20:41.619472Z"
    }
   },
   "outputs": [
    {
     "data": {
      "text/plain": [
       "array([0., 0., 0., 0., 0., 0., 0., 0., 0., 0., 0., 0., 0., 0.])"
      ]
     },
     "execution_count": 19,
     "metadata": {},
     "output_type": "execute_result"
    }
   ],
   "source": [
    "# (5 points) scaling the data to the range [0, 1]: normalization\n",
    "# (x - x_min)/(x_max - x_min )\n",
    "\n",
    "\n",
    "heart = (heart - heart.min(axis=0))/(heart.max(axis=0) - heart.min(axis=0))\n",
    "\n",
    "heart.min(axis = 0) "
   ]
  },
  {
   "cell_type": "code",
   "execution_count": 20,
   "metadata": {
    "ExecuteTime": {
     "end_time": "2022-11-07T21:20:42.528489Z",
     "start_time": "2022-11-07T21:20:42.523450Z"
    }
   },
   "outputs": [],
   "source": [
    "# distance: x\n",
    "# (5 points) distance or similarity (the closer the more similar)\n",
    "\n",
    "def dist(p, q):\n",
    "    \n",
    "        dist =  (sum((p-q)**2))**0.5\n",
    "        \n",
    "        # or use the function\n",
    "        # dist = np.linalg.norm(p-q)\n",
    "        \n",
    "        return dist\n",
    " "
   ]
  },
  {
   "cell_type": "code",
   "execution_count": 21,
   "metadata": {
    "ExecuteTime": {
     "end_time": "2022-11-07T21:20:43.245482Z",
     "start_time": "2022-11-07T21:20:43.236482Z"
    }
   },
   "outputs": [],
   "source": [
    "# (10 points) define a kNN functin with a given k and pid, return the majority vote\n",
    "def kNN(pid, k):\n",
    "\n",
    "    # (1) use comprehension list to find all distances\n",
    "    distance  = [ dist(heart[pid][0:-1], heart[i][0:-1]) for i in range(len(heart))]\n",
    "    distances = np.array(distance)\n",
    "\n",
    "    # (2) looking for k closest neighbors by similarity with sorted distances first (low to high), return indices\n",
    "    ind  = np.argsort(distances)                                   #  indices of the sorted array\n",
    "    short_dis=distances[ind]\n",
    "\n",
    "    # then track target col: find the k closest patient's diagnoises    \n",
    "    sum_positive = sum(heart[ind, -1][1:k+1])           # -1 col for the target col # skip the first distance, patient himself\n",
    "                                                                  \n",
    "    # (3) majority vote \n",
    "    if sum_positive >= k/2:                                                \n",
    "        predict = 1\n",
    "    else:\n",
    "        predict = 0\n",
    "        \n",
    "    return predict\n",
    "    "
   ]
  },
  {
   "cell_type": "code",
   "execution_count": 22,
   "metadata": {
    "ExecuteTime": {
     "end_time": "2022-11-07T21:20:47.391386Z",
     "start_time": "2022-11-07T21:20:43.804600Z"
    }
   },
   "outputs": [
    {
     "name": "stdout",
     "output_type": "stream",
     "text": [
      " What is the patient's ID: 200\n",
      " Majority vote from 5 nearest neighbors:  Positive\n",
      " Actually this patient is tested:     Negative.\n"
     ]
    }
   ],
   "source": [
    "# (10 points) Test the kNN() function\n",
    "\n",
    "\n",
    "# (A) for any given patient id and a k value\n",
    "pid = int( input(\" What is the patient's ID: \")  )    \n",
    "k = 5\n",
    "\n",
    "# (B) predition for this pid and a k value\n",
    "pred = kNN(pid, k )\n",
    "if pred == 1:                                                \n",
    "    print(f\" Majority vote from {k} nearest neighbors:  Positive\")\n",
    "else:\n",
    "    print(f\"Majority vote from {k} nearest neighbors:  Negative\")\n",
    "\n",
    "\n",
    "# (C) the real diagosis:\n",
    "actual = heart[pid, -1]\n",
    "if actual == 1:\n",
    "    print(\" Actually this patient is tested:     Positive.\")\n",
    "else:\n",
    "    print(\" Actually this patient is tested:     Negative.\")\n",
    "  \n"
   ]
  },
  {
   "attachments": {
    "image.png": {
     "image/png": "[encoded data removed]"
    }
   },
   "cell_type": "markdown",
   "metadata": {},
   "source": [
    "### sample run 1\n",
    "![image.png](attachment:image.png)"
   ]
  },
  {
   "attachments": {
    "image.png": {
     "image/png": "[encoded data removed]"
    }
   },
   "cell_type": "markdown",
   "metadata": {},
   "source": [
    "### sample run 2\n",
    "![image.png](attachment:image.png)"
   ]
  },
  {
   "attachments": {
    "image.png": {
     "image/png": "[encoded data removed]"
    }
   },
   "cell_type": "markdown",
   "metadata": {},
   "source": [
    "## sample run 3\n",
    "![image.png](attachment:image.png)"
   ]
  },
  {
   "cell_type": "markdown",
   "metadata": {},
   "source": [
    "##  Step 2: Run over all patients and check the overall accuracy for k = 5\n",
    " \n",
    "    Based on what you have in step 1, you need to run a loop to check every patient's prediction vs actual diagnosis. \n",
    "    Then find the accuracy (total number of correct predictions/total cases)\n"
   ]
  },
  {
   "cell_type": "code",
   "execution_count": 23,
   "metadata": {
    "ExecuteTime": {
     "end_time": "2022-11-07T21:20:53.719943Z",
     "start_time": "2022-11-07T21:20:53.239599Z"
    }
   },
   "outputs": [
    {
     "name": "stdout",
     "output_type": "stream",
     "text": [
      "k: 5   accuracy: 0.8283828382838284\n"
     ]
    }
   ],
   "source": [
    "# (10 points) for any given k, for example k = 10,\n",
    "# loop over all patients then find the accuracy\n",
    "\n",
    "def accuracy(k_nn):\n",
    "    total_correct = 0\n",
    "    \n",
    "    for pid in range(len(heart)):\n",
    "        pred = kNN(pid, k=k_nn)\n",
    "        actual = heart[pid, -1]\n",
    "\n",
    "        if actual == pred:\n",
    "            total_correct += 1\n",
    "\n",
    "    # accuracy\n",
    "    result = total_correct/len(heart)\n",
    "    return result \n",
    "\n",
    "\n",
    "k_nn = 5\n",
    "acc = accuracy(k_nn)\n",
    "print(f'k: {k_nn}   accuracy: {acc}')"
   ]
  },
  {
   "cell_type": "markdown",
   "metadata": {},
   "source": [
    "## Step 3: Find the best k.\n",
    "    \n",
    "    For different K, this accuracy might not be the same. Find the best K which corresponds the highest accuracy.\n"
   ]
  },
  {
   "cell_type": "code",
   "execution_count": 24,
   "metadata": {
    "ExecuteTime": {
     "end_time": "2022-11-07T21:21:16.678785Z",
     "start_time": "2022-11-07T21:20:55.341544Z"
    }
   },
   "outputs": [
    {
     "name": "stdout",
     "output_type": "stream",
     "text": [
      "Best k: 5  The max. accuracy 0.8283828382838284\n"
     ]
    }
   ],
   "source": [
    "# (5 points) loop for different k: from 1 to 50 (this loop will take 3-5 minutes)\n",
    "# find the best k which corresponds the highest accuracy\n",
    "acc_knn = []\n",
    "\n",
    "for i in range(1, 51):\n",
    "    acc = accuracy(i)\n",
    "    acc_knn.append(acc)\n",
    "    \n",
    "# Best K is:\n",
    "best = 1 + np.argmax(acc_knn) # as index itself start 0, we need to add 1 to the argmax\n",
    "print(\"Best k:\", best, \" The max. accuracy\", max(acc_knn))"
   ]
  },
  {
   "cell_type": "code",
   "execution_count": 27,
   "metadata": {
    "ExecuteTime": {
     "end_time": "2022-11-07T21:21:24.466723Z",
     "start_time": "2022-11-07T21:21:24.441643Z"
    },
    "scrolled": false
   },
   "outputs": [
    {
     "name": "stdout",
     "output_type": "stream",
     "text": [
      "1, 0.7558\n",
      "2, 0.7657\n",
      "3, 0.8086\n",
      "4, 0.7987\n",
      "5, 0.8284\n",
      "6, 0.8152\n",
      "7, 0.8284\n",
      "8, 0.8086\n",
      "9, 0.8284\n",
      "10, 0.7888\n",
      "11, 0.8053\n",
      "12, 0.7822\n",
      "13, 0.7954\n",
      "14, 0.7789\n",
      "15, 0.7888\n",
      "16, 0.7921\n",
      "17, 0.7855\n",
      "18, 0.7723\n",
      "19, 0.7756\n",
      "20, 0.7822\n",
      "21, 0.7756\n",
      "22, 0.7855\n",
      "23, 0.7822\n",
      "24, 0.7921\n",
      "25, 0.7888\n",
      "26, 0.7888\n",
      "27, 0.8020\n",
      "28, 0.7954\n",
      "29, 0.8020\n",
      "30, 0.7921\n",
      "31, 0.7987\n",
      "32, 0.7888\n",
      "33, 0.7888\n",
      "34, 0.7855\n",
      "35, 0.7954\n",
      "36, 0.7921\n",
      "37, 0.7987\n",
      "38, 0.7855\n",
      "39, 0.7921\n",
      "40, 0.7855\n",
      "41, 0.7822\n",
      "42, 0.7789\n",
      "43, 0.7789\n",
      "44, 0.7756\n",
      "45, 0.7789\n",
      "46, 0.7789\n",
      "47, 0.7789\n",
      "48, 0.7789\n",
      "49, 0.7789\n",
      "50, 0.7822\n"
     ]
    }
   ],
   "source": [
    "for i, x in enumerate(acc_knn):\n",
    "    print(f'{i+1}, {x:.4f}')"
   ]
  },
  {
   "cell_type": "markdown",
   "metadata": {},
   "source": [
    "### plotting (optional for you)"
   ]
  },
  {
   "cell_type": "code",
   "execution_count": 28,
   "metadata": {
    "ExecuteTime": {
     "end_time": "2022-11-07T21:21:26.167089Z",
     "start_time": "2022-11-07T21:21:25.958613Z"
    }
   },
   "outputs": [
    {
     "data": {
      "image/png": "[encoded data removed]",
      "text/plain": [
       "<Figure size 432x288 with 1 Axes>"
      ]
     },
     "metadata": {
      "needs_background": "light"
     },
     "output_type": "display_data"
    }
   ],
   "source": [
    "# (0 points) plotting \n",
    "import matplotlib.pyplot as plt\n",
    "plt.bar(range(1, 51), acc_knn)\n",
    "plt.xlabel(\" k \")\n",
    "plt.ylabel(\"accuracy\")\n",
    "plt.title(\"K-NNs for heart diseases\")\n",
    "plt.show()"
   ]
  },
  {
   "attachments": {
    "image.png": {
     "image/png": "[encoded data removed]"
    }
   },
   "cell_type": "markdown",
   "metadata": {},
   "source": [
    "### (5 points) comparison: with/without data scaling:\n",
    "\n",
    "    - rerun your code if you skipped the step of data scaling in the beginning. \n",
    "    - what are the differences?\n",
    "    \n",
    "###### observations with/without normalization\n",
    "  \n",
    "   - without normalization:\n",
    "      - the best k is 31,  \n",
    "      - The max. accuracy 0.6963696369636964\n",
    "   - The normalization is helpful for higher accuracy.  \n",
    "   \n",
    "   - This dataset is relatively small, we do not see the acc ~ k trend very obviously. \n",
    "   \n",
    "    ![image.png](attachment:image.png)"
   ]
  },
  {
   "cell_type": "code",
   "execution_count": null,
   "metadata": {
    "ExecuteTime": {
     "end_time": "2021-11-01T12:53:30.458894Z",
     "start_time": "2021-11-01T12:53:30.450916Z"
    }
   },
   "outputs": [],
   "source": [
    "# end "
   ]
  }
 ],
 "metadata": {
  "hide_input": false,
  "kernelspec": {
   "display_name": "Python 3",
   "language": "python",
   "name": "python3"
  },
  "language_info": {
   "codemirror_mode": {
    "name": "ipython",
    "version": 3
   },
   "file_extension": ".py",
   "mimetype": "text/x-python",
   "name": "python",
   "nbconvert_exporter": "python",
   "pygments_lexer": "ipython3",
   "version": "3.8.8"
  },
  "toc": {
   "base_numbering": 1,
   "nav_menu": {},
   "number_sections": true,
   "sideBar": true,
   "skip_h1_title": false,
   "title_cell": "Table of Contents",
   "title_sidebar": "Contents",
   "toc_cell": false,
   "toc_position": {},
   "toc_section_display": true,
   "toc_window_display": false
  },
  "varInspector": {
   "cols": {
    "lenName": 16,
    "lenType": 16,
    "lenVar": 40
   },
   "kernels_config": {
    "python": {
     "delete_cmd_postfix": "",
     "delete_cmd_prefix": "del ",
     "library": "var_list.py",
     "varRefreshCmd": "print(var_dic_list())"
    },
    "r": {
     "delete_cmd_postfix": ") ",
     "delete_cmd_prefix": "rm(",
     "library": "var_list.r",
     "varRefreshCmd": "cat(var_dic_list()) "
    }
   },
   "types_to_exclude": [
    "module",
    "function",
    "builtin_function_or_method",
    "instance",
    "_Feature"
   ],
   "window_display": false
  }
 },
 "nbformat": 4,
 "nbformat_minor": 4
}
