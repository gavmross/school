{
 "cells": [
  {
   "cell_type": "markdown",
   "id": "b17380d9",
   "metadata": {},
   "source": [
    "### Q1:  For a given date (year, month, day),  calculate how many days have passed from  Jan. 1st, 2000.  \n",
    " --- \n",
    "  * There are 365 days in a regular year, 366 days in a leap year. \n",
    "  * Number of days for all 12 months are [31, 28, 31, 30, 31, 30, 31, 31, 30, 31, 30, 31]. \n",
    "  * There are 29 days in Feb if that year is leap year. \n"
   ]
  },
  {
   "cell_type": "code",
   "execution_count": 42,
   "id": "4620e32e",
   "metadata": {
    "ExecuteTime": {
     "end_time": "2022-09-19T17:01:03.773756Z",
     "start_time": "2022-09-19T17:01:03.768783Z"
    }
   },
   "outputs": [
    {
     "data": {
      "text/plain": [
       "8303"
      ]
     },
     "execution_count": 42,
     "metadata": {},
     "output_type": "execute_result"
    }
   ],
   "source": [
    "# Given \n",
    "\n",
    "\n",
    "\n",
    "year_0 = 2000\n",
    "month_days = [31, 28, 31, 30, 31, 30, 31, 31, 30, 31, 30, 31] \n",
    "\n",
    "\n",
    "# Code here \n",
    "input_date = input('What date:')\n",
    "today = '2022-9-25'\n",
    "\n",
    "def parse_date(date):\n",
    "    nums = date.split('-')\n",
    "    int_date = [int(x) for x in nums]\n",
    "\n",
    "    return int_date\n",
    "\n",
    "usr_date = parse_date(input_date)\n",
    "td_date = parse_date(today)\n",
    "\n",
    "def find_days(usr_date, td_date):\n",
    "    days_pass = 0               # Var to hold days passed\n",
    "\n",
    "    if (td_date[0] - usr_date[0]) > 1:   # Always find diff of today and usr input. If its less than one, the difference is not longer than the measurement of time\n",
    "\n",
    "        years_pass = (td_date[0] - usr_date[0]) * 365\n",
    "        days_pass += years_pass\n",
    "        \n",
    "    if (td_date[1] - usr_date[1]) > 1:\n",
    "        td_month = td_date[1]-1    # Index of current month\n",
    "        usr_month = usr_date[1]-1  # Index of user input month \n",
    "\n",
    "        for i in range(usr_month, td_month):  # Count each day in between the two indices, not including this month. \n",
    "            days_pass += month_days[i]\n",
    "\n",
    "    if (td_date[2] - usr_date[2]) > 0:\n",
    "        days_pass += (td_date[2] - usr_date[2])  # This includes the end date\n",
    "\n",
    "    for i in range(usr_date[0], td_date[0] + 1):    # The rules below would not count 2000 as a leap year even though it was. This code makes up for that\n",
    "        if (i %4 == 0) and (i % 100 != 0) or (i%400 == 0):\n",
    "            days_pass += 1\n",
    "        if i == 2000:\n",
    "            days_pass += 1\n",
    "            \n",
    "\n",
    "    return days_pass\n",
    "\n",
    "\n",
    "find_days(usr_date, td_date)\n",
    "\n",
    "# for today, the number of days passed: 8297"
   ]
  },
  {
   "cell_type": "markdown",
   "id": "0f464d3c",
   "metadata": {},
   "source": [
    "### For your reference:\n",
    "\n",
    "    Suppose we start on 2000 Jan. 1st:\n",
    "    \n",
    "    (1) For any year yyyy later then 2000, days passed is (yyyy-2000)*365 days\n",
    "    \n",
    "    (2) For any given month m: the days passed should be the sum of all days in months passed  \n",
    "    \n",
    "    (3) For any given date d: the days pass is d - 1 \n",
    "    \n",
    "    (4) Fro additional days: add all leap years in between:\n",
    "    \n",
    "    (5) How many weeks have passed (%7)\n",
    "\n",
    "    (6) Finally, the the day of the week = ( start + total days passed)%7\n",
    "    \n",
    "    \n",
    "    \n",
    "### For your reference: Leap year check\n",
    "\n",
    "    for coding:\n",
    "        if a year is divisible by 4 but not by 100 then it is a leap year\n",
    "        or a year is divisible by 400 is also a leap year\n",
    "\n"
   ]
  },
  {
   "cell_type": "markdown",
   "id": "a38548c0",
   "metadata": {},
   "source": [
    "### Q2: Given that January 1, 2000 falls on a Saturday, what day of the week is today? (Sunday, Monday, etc.) \n",
    " - reuse the code above"
   ]
  },
  {
   "cell_type": "code",
   "execution_count": 43,
   "id": "dd871631",
   "metadata": {
    "ExecuteTime": {
     "end_time": "2022-09-19T17:01:05.423744Z",
     "start_time": "2022-09-19T17:01:05.408744Z"
    }
   },
   "outputs": [
    {
     "name": "stdout",
     "output_type": "stream",
     "text": [
      "Sun\n"
     ]
    }
   ],
   "source": [
    "# Given 2000 Jan. 1 falls on Sat\n",
    "week_day = [\"Sun\", \"Mon\", \"Tue\", \"Wed\", \"Thu\", \"Fri\", \"Sat\"]\n",
    "start = 6     # Jan. 1st, 2000 Sat. \n",
    "\n",
    "days_since = find_days(usr_date, td_date)\n",
    "\n",
    "day = week_day[(days_since%7)-1]  # Find mod 7 and subtract 1 to adjust for indexing\n",
    "\n",
    "print(day)"
   ]
  },
  {
   "cell_type": "code",
   "execution_count": 9,
   "id": "2b40dd79",
   "metadata": {
    "ExecuteTime": {
     "end_time": "2022-09-19T18:39:23.178610Z",
     "start_time": "2022-09-19T18:39:23.158605Z"
    }
   },
   "outputs": [
    {
     "name": "stdout",
     "output_type": "stream",
     "text": [
      "   September 2022\n",
      "Mo Tu We Th Fr Sa Su\n",
      "          1  2  3  4\n",
      " 5  6  7  8  9 10 11\n",
      "12 13 14 15 16 17 18\n",
      "19 20 21 22 23 24 25\n",
      "26 27 28 29 30\n",
      "\n"
     ]
    }
   ],
   "source": [
    "# you can check your code by using the built-in calendar\n",
    "import calendar\n",
    "\n",
    "# give the year and month\n",
    "yyyy =2022\n",
    "mm = 9 # for May.\n",
    "    \n",
    "# display the calendar  \n",
    "print(calendar.month(yyyy, mm))\n"
   ]
  },
  {
   "cell_type": "code",
   "execution_count": 10,
   "id": "2059ab8e",
   "metadata": {
    "ExecuteTime": {
     "end_time": "2022-09-19T18:39:26.917812Z",
     "start_time": "2022-09-19T18:39:26.912812Z"
    }
   },
   "outputs": [
    {
     "name": "stdout",
     "output_type": "stream",
     "text": [
      "2022 is not a leap year\n"
     ]
    }
   ],
   "source": [
    "# leap check\n",
    "year = 2022\n",
    "if (year%4 == 0 and year%100 != 0 ) or (year%400 == 0):\n",
    "    print(year, \"is a leap year\")\n",
    "else: \n",
    "    print(year, \"is not a leap year\")"
   ]
  },
  {
   "cell_type": "code",
   "execution_count": null,
   "id": "a1c743a3",
   "metadata": {},
   "outputs": [],
   "source": [
    "# end"
   ]
  }
 ],
 "metadata": {
  "hide_input": false,
  "kernelspec": {
   "display_name": "Python 3.10.1 64-bit",
   "language": "python",
   "name": "python3"
  },
  "language_info": {
   "codemirror_mode": {
    "name": "ipython",
    "version": 3
   },
   "file_extension": ".py",
   "mimetype": "text/x-python",
   "name": "python",
   "nbconvert_exporter": "python",
   "pygments_lexer": "ipython3",
   "version": "3.10.1"
  },
  "varInspector": {
   "cols": {
    "lenName": 16,
    "lenType": 16,
    "lenVar": 40
   },
   "kernels_config": {
    "python": {
     "delete_cmd_postfix": "",
     "delete_cmd_prefix": "del ",
     "library": "var_list.py",
     "varRefreshCmd": "print(var_dic_list())"
    },
    "r": {
     "delete_cmd_postfix": ") ",
     "delete_cmd_prefix": "rm(",
     "library": "var_list.r",
     "varRefreshCmd": "cat(var_dic_list()) "
    }
   },
   "types_to_exclude": [
    "module",
    "function",
    "builtin_function_or_method",
    "instance",
    "_Feature"
   ],
   "window_display": false
  },
  "vscode": {
   "interpreter": {
    "hash": "aee8b7b246df8f9039afb4144a1f6fd8d2ca17a180786b69acc140d282b71a49"
   }
  }
 },
 "nbformat": 4,
 "nbformat_minor": 5
}
