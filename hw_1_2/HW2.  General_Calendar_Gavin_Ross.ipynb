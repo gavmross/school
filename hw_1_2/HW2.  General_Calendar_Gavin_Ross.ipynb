{
 "cells": [
  {
   "cell_type": "markdown",
   "id": "36c88257",
   "metadata": {},
   "source": [
    "# HW2: Generate Monthly Calendar (30 points)\n",
    "  <span class=\"mark\">**The built-in calendar is used for checking purpose only. You will get 0 credit if you submit built-in calendar only.**</span>\n",
    "  \n",
    "  - Practice: \n",
    "     * loops\n",
    "     * if_condition\n",
    "     * list\n",
    "     * math and logic operations\n",
    "     * format printing\n",
    "     \n",
    "   \n",
    " - In code cells, use comments for explanation  \n",
    "        \n",
    " - Submit your notebook online by Sunday, Oct. 25  \n",
    "     \n",
    "   "
   ]
  },
  {
   "cell_type": "markdown",
   "id": "1692b3bc",
   "metadata": {},
   "source": [
    "### 2.A.  Print a Monthly Calendar (20 points)\n",
    "\n",
    "    Rqmts:\n",
    "\n",
    "    - Ask the user to type in yyyy (>= 20000) and mm (1-12). Your program should print out that month calendar.  \n",
    "\n",
    "    Given Conditions:  \n",
    "        (1) Jan. 1, 2000 falls on Saturday   \n",
    "        (2) month_names are \"January\", \"February\", \"March\", \"April\", \"May\", \"June\", \"July\", \"August\", \"September\", \"October\",\"November\", \"December\" \n",
    "\n",
    "        (3) week_days are \"Sun\", \"Mon\", \"Tue\", \"Wed\", \"Thu\", \"Fri\", \"Sat\" \n",
    "        (4) month_days are 31, 28, 31, 30, 31, 30, 31, 31, 30, 31, 30, 31 \n",
    "        (5) for a leap year, there are 29 days in Feb.\n"
   ]
  },
  {
   "cell_type": "code",
   "execution_count": 17,
   "id": "712af6da",
   "metadata": {
    "ExecuteTime": {
     "end_time": "2022-09-19T17:51:05.610134Z",
     "start_time": "2022-09-19T17:51:05.594121Z"
    }
   },
   "outputs": [
    {
     "name": "stdout",
     "output_type": "stream",
     "text": [
      "       February 2040        \n",
      " Sun Mon Tue Wed Thu Fri Sat\n",
      "               1   2   3   4\n",
      "   5   6   7   8   9  10  11\n",
      "  12  13  14  15  16  17  18\n",
      "  19  20  21  22  23  24  25\n",
      "  26  27  28  29"
     ]
    }
   ],
   "source": [
    "# use list or tuple for the given data \n",
    "month_name  = [\"January\", \"February\", \"March\", \"April\", \"May\", \"June\", \n",
    "              \"July\", \"August\", \"September\", \"October\",\"November\", \"December\" ]\n",
    "\n",
    "week_day    = [\"Sun\", \"Mon\", \"Tue\", \"Wed\", \"Thu\", \"Fri\", \"Sat\"]\n",
    "month_day   = [31, 28, 31, 30, 31, 30, 31, 31, 30, 31, 30, 31]\n",
    "\n",
    "# Given 2000 Jan. 1 falls on a Sat.\n",
    "offset_0 = 6   \n",
    "\n",
    "# Code here\n",
    "'''\n",
    "RULE: Find offset based off years since Jan 1 2020\n",
    "'''\n",
    "year = int(input('Which year:'))\n",
    "month = int(input('Which month:'))\n",
    "\n",
    "def find_calendar(year, month):\n",
    "    offset_0 = 6 \n",
    "    # Find Month for Header\n",
    "    header = month_name[month-1] + ' ' + str(year)\n",
    "    print(f'{header:^28}')\n",
    "\n",
    "    # Find offset \n",
    "    for i in range(2000, year):\n",
    "        if (i % 4 == 0 and i % 100 != 0) or (i%400 == 0):\n",
    "            offset_0 += 2\n",
    "        else:\n",
    "            offset_0 += 1\n",
    "    # For the year given, only the months after February if leap year\n",
    "    leap_year = False    # Variable to track if leap year\n",
    "    if (year % 4 == 0 and year % 100 != 0) or (i%400 == 0):    # This is the part of the code I was missing\n",
    "        leap_year = True\n",
    "        if month > 2: \n",
    "            offset_0 += 1\n",
    "\n",
    "    offset_year = offset_0 % 7  #Offset for this year \n",
    "\n",
    "    # Find how many days have passed since start of year \n",
    "    days_this_year = 0\n",
    "    for i in range(0, month-1):\n",
    "        days_this_year += month_day[i]\n",
    "\n",
    "    offset_month = days_this_year % 7 \n",
    "\n",
    "    final_offset = (offset_year + offset_month) % 7\n",
    "\n",
    "\n",
    "    for day in week_day:\n",
    "        print(f'{day:>4}', end='')   # 28 spaces\n",
    "\n",
    "    print()                         # Print new line between days and numbers\n",
    "\n",
    "    print(' '*final_offset*4, end='')     # Start at offset \n",
    "    if leap_year == True:   # Check to see if Feb has 28 or 29 days \n",
    "        month_day[1] = 29\n",
    "    days_month = month_day[month-1] # Number of days in given month \n",
    "    \n",
    "\n",
    "    for i in range(1, days_month+1): # iterate over all days \n",
    "        print(f'{i:>4}', end='')\n",
    "        if (final_offset + i) % 7 == 0:\n",
    "            print()\n",
    "    \n",
    "\n",
    "\n",
    "find_calendar(year, month)\n",
    "\n",
    "\n"
   ]
  },
  {
   "attachments": {
    "image.png": {
     "image/png": "[encoded data removed]"
    }
   },
   "cell_type": "markdown",
   "id": "8e860c96",
   "metadata": {},
   "source": [
    "### Sample run\n",
    "![image.png](attachment:image.png)\n"
   ]
  },
  {
   "cell_type": "markdown",
   "id": "dbe701d5",
   "metadata": {},
   "source": [
    " ### 2.B.  Yearly Calendar (10 points) \n",
    "     - reuse the code above. \n",
    "     - input  yyyy only from keyboard this time, print that year's calendar month by month (loop)\n",
    "    "
   ]
  },
  {
   "cell_type": "code",
   "execution_count": 5,
   "id": "dbd7fc05",
   "metadata": {
    "ExecuteTime": {
     "end_time": "2022-09-19T18:30:35.180843Z",
     "start_time": "2022-09-19T18:30:32.441822Z"
    }
   },
   "outputs": [
    {
     "name": "stdout",
     "output_type": "stream",
     "text": [
      " Which year: 2040\n",
      "\n",
      "        January 2040        \n",
      " Sun Mon Tue Wed Thu Fri Sat\n",
      "   1   2   3   4   5   6   7\n",
      "   8   9  10  11  12  13  14\n",
      "  15  16  17  18  19  20  21\n",
      "  22  23  24  25  26  27  28\n",
      "  29  30  31\n",
      "\n",
      "       February 2040        \n",
      " Sun Mon Tue Wed Thu Fri Sat\n",
      "               1   2   3   4\n",
      "   5   6   7   8   9  10  11\n",
      "  12  13  14  15  16  17  18\n",
      "  19  20  21  22  23  24  25\n",
      "  26  27  28  29\n",
      "\n",
      "         March 2040         \n",
      " Sun Mon Tue Wed Thu Fri Sat\n",
      "                   1   2   3\n",
      "   4   5   6   7   8   9  10\n",
      "  11  12  13  14  15  16  17\n",
      "  18  19  20  21  22  23  24\n",
      "  25  26  27  28  29  30  31\n",
      "\n",
      "\n",
      "         April 2040         \n",
      " Sun Mon Tue Wed Thu Fri Sat\n",
      "   1   2   3   4   5   6   7\n",
      "   8   9  10  11  12  13  14\n",
      "  15  16  17  18  19  20  21\n",
      "  22  23  24  25  26  27  28\n",
      "  29  30\n",
      "\n",
      "          May 2040          \n",
      " Sun Mon Tue Wed Thu Fri Sat\n",
      "           1   2   3   4   5\n",
      "   6   7   8   9  10  11  12\n",
      "  13  14  15  16  17  18  19\n",
      "  20  21  22  23  24  25  26\n",
      "  27  28  29  30  31\n",
      "\n",
      "         June 2040          \n",
      " Sun Mon Tue Wed Thu Fri Sat\n",
      "                       1   2\n",
      "   3   4   5   6   7   8   9\n",
      "  10  11  12  13  14  15  16\n",
      "  17  18  19  20  21  22  23\n",
      "  24  25  26  27  28  29  30\n",
      "\n",
      "\n",
      "         July 2040          \n",
      " Sun Mon Tue Wed Thu Fri Sat\n",
      "   1   2   3   4   5   6   7\n",
      "   8   9  10  11  12  13  14\n",
      "  15  16  17  18  19  20  21\n",
      "  22  23  24  25  26  27  28\n",
      "  29  30  31\n",
      "\n",
      "        August 2040         \n",
      " Sun Mon Tue Wed Thu Fri Sat\n",
      "               1   2   3   4\n",
      "   5   6   7   8   9  10  11\n",
      "  12  13  14  15  16  17  18\n",
      "  19  20  21  22  23  24  25\n",
      "  26  27  28  29  30  31\n",
      "\n",
      "       September 2040       \n",
      " Sun Mon Tue Wed Thu Fri Sat\n",
      "                           1\n",
      "   2   3   4   5   6   7   8\n",
      "   9  10  11  12  13  14  15\n",
      "  16  17  18  19  20  21  22\n",
      "  23  24  25  26  27  28  29\n",
      "  30\n",
      "\n",
      "        October 2040        \n",
      " Sun Mon Tue Wed Thu Fri Sat\n",
      "       1   2   3   4   5   6\n",
      "   7   8   9  10  11  12  13\n",
      "  14  15  16  17  18  19  20\n",
      "  21  22  23  24  25  26  27\n",
      "  28  29  30  31\n",
      "\n",
      "       November 2040        \n",
      " Sun Mon Tue Wed Thu Fri Sat\n",
      "                   1   2   3\n",
      "   4   5   6   7   8   9  10\n",
      "  11  12  13  14  15  16  17\n",
      "  18  19  20  21  22  23  24\n",
      "  25  26  27  28  29  30\n",
      "\n",
      "       December 2040        \n",
      " Sun Mon Tue Wed Thu Fri Sat\n",
      "                           1\n",
      "   2   3   4   5   6   7   8\n",
      "   9  10  11  12  13  14  15\n",
      "  16  17  18  19  20  21  22\n",
      "  23  24  25  26  27  28  29\n",
      "  30  31\n"
     ]
    }
   ],
   "source": [
    "# Code here\n",
    "\n",
    "\n",
    "\n",
    "\n",
    "\n",
    "\n",
    "\n",
    "\n",
    "\n",
    "\n",
    "\n",
    "\n",
    "\n",
    "\n",
    "\n"
   ]
  },
  {
   "cell_type": "markdown",
   "id": "fcbf188b",
   "metadata": {},
   "source": [
    "----\n",
    "----\n",
    "# For your reference: use the built-in calendar to verify your code."
   ]
  },
  {
   "cell_type": "code",
   "execution_count": 2,
   "id": "171999c8",
   "metadata": {
    "ExecuteTime": {
     "end_time": "2022-09-19T18:29:46.349098Z",
     "start_time": "2022-09-19T18:29:46.334097Z"
    }
   },
   "outputs": [
    {
     "name": "stdout",
     "output_type": "stream",
     "text": [
      "                                  2000\n",
      "\n",
      "      January                   February                   March\n",
      "Mo Tu We Th Fr Sa Su      Mo Tu We Th Fr Sa Su      Mo Tu We Th Fr Sa Su\n",
      "                1  2          1  2  3  4  5  6             1  2  3  4  5\n",
      " 3  4  5  6  7  8  9       7  8  9 10 11 12 13       6  7  8  9 10 11 12\n",
      "10 11 12 13 14 15 16      14 15 16 17 18 19 20      13 14 15 16 17 18 19\n",
      "17 18 19 20 21 22 23      21 22 23 24 25 26 27      20 21 22 23 24 25 26\n",
      "24 25 26 27 28 29 30      28 29                     27 28 29 30 31\n",
      "31\n",
      "\n",
      "       April                      May                       June\n",
      "Mo Tu We Th Fr Sa Su      Mo Tu We Th Fr Sa Su      Mo Tu We Th Fr Sa Su\n",
      "                1  2       1  2  3  4  5  6  7                1  2  3  4\n",
      " 3  4  5  6  7  8  9       8  9 10 11 12 13 14       5  6  7  8  9 10 11\n",
      "10 11 12 13 14 15 16      15 16 17 18 19 20 21      12 13 14 15 16 17 18\n",
      "17 18 19 20 21 22 23      22 23 24 25 26 27 28      19 20 21 22 23 24 25\n",
      "24 25 26 27 28 29 30      29 30 31                  26 27 28 29 30\n",
      "\n",
      "        July                     August                  September\n",
      "Mo Tu We Th Fr Sa Su      Mo Tu We Th Fr Sa Su      Mo Tu We Th Fr Sa Su\n",
      "                1  2          1  2  3  4  5  6                   1  2  3\n",
      " 3  4  5  6  7  8  9       7  8  9 10 11 12 13       4  5  6  7  8  9 10\n",
      "10 11 12 13 14 15 16      14 15 16 17 18 19 20      11 12 13 14 15 16 17\n",
      "17 18 19 20 21 22 23      21 22 23 24 25 26 27      18 19 20 21 22 23 24\n",
      "24 25 26 27 28 29 30      28 29 30 31               25 26 27 28 29 30\n",
      "31\n",
      "\n",
      "      October                   November                  December\n",
      "Mo Tu We Th Fr Sa Su      Mo Tu We Th Fr Sa Su      Mo Tu We Th Fr Sa Su\n",
      "                   1             1  2  3  4  5                   1  2  3\n",
      " 2  3  4  5  6  7  8       6  7  8  9 10 11 12       4  5  6  7  8  9 10\n",
      " 9 10 11 12 13 14 15      13 14 15 16 17 18 19      11 12 13 14 15 16 17\n",
      "16 17 18 19 20 21 22      20 21 22 23 24 25 26      18 19 20 21 22 23 24\n",
      "23 24 25 26 27 28 29      27 28 29 30               25 26 27 28 29 30 31\n",
      "30 31\n",
      "\n"
     ]
    }
   ],
   "source": [
    "import calendar\n",
    "\n",
    "# # for 2.A verification only:\n",
    "# print(calendar.month(2022, 12) )\n",
    "\n",
    "# # for 2.B\n",
    "# print(calendar.calendar(2050) )\n",
    "\n",
    "# # for 2.C\n",
    "print(calendar.calendar(2000))"
   ]
  },
  {
   "cell_type": "code",
   "execution_count": 5,
   "id": "81bf1bbf",
   "metadata": {
    "ExecuteTime": {
     "end_time": "2021-05-26T13:21:51.858757Z",
     "start_time": "2021-05-26T13:21:51.846541Z"
    }
   },
   "outputs": [],
   "source": [
    "# end"
   ]
  }
 ],
 "metadata": {
  "hide_input": false,
  "kernelspec": {
   "display_name": "Python 3.9.13 ('datasci_env')",
   "language": "python",
   "name": "python3"
  },
  "language_info": {
   "codemirror_mode": {
    "name": "ipython",
    "version": 3
   },
   "file_extension": ".py",
   "mimetype": "text/x-python",
   "name": "python",
   "nbconvert_exporter": "python",
   "pygments_lexer": "ipython3",
   "version": "3.9.13"
  },
  "toc": {
   "base_numbering": 1,
   "nav_menu": {},
   "number_sections": true,
   "sideBar": true,
   "skip_h1_title": false,
   "title_cell": "Table of Contents",
   "title_sidebar": "Contents",
   "toc_cell": false,
   "toc_position": {},
   "toc_section_display": true,
   "toc_window_display": false
  },
  "varInspector": {
   "cols": {
    "lenName": 16,
    "lenType": 16,
    "lenVar": 40
   },
   "kernels_config": {
    "python": {
     "delete_cmd_postfix": "",
     "delete_cmd_prefix": "del ",
     "library": "var_list.py",
     "varRefreshCmd": "print(var_dic_list())"
    },
    "r": {
     "delete_cmd_postfix": ") ",
     "delete_cmd_prefix": "rm(",
     "library": "var_list.r",
     "varRefreshCmd": "cat(var_dic_list()) "
    }
   },
   "types_to_exclude": [
    "module",
    "function",
    "builtin_function_or_method",
    "instance",
    "_Feature"
   ],
   "window_display": false
  },
  "vscode": {
   "interpreter": {
    "hash": "0ceb7bdb75909dd04446f2aabfbd74a860ae01334b686659b7f04454d56adc48"
   }
  }
 },
 "nbformat": 4,
 "nbformat_minor": 5
}
