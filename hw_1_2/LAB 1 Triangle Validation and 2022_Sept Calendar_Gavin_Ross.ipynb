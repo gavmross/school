{
 "cells": [
  {
   "cell_type": "markdown",
   "id": "9a418522",
   "metadata": {},
   "source": [
    "    - 10 points\n",
    "    - due by the end of the lecture."
   ]
  },
  {
   "cell_type": "markdown",
   "id": "958ead0d",
   "metadata": {},
   "source": [
    "# Practices:\n",
    " - if conditional selection\n",
    " - loop"
   ]
  },
  {
   "cell_type": "markdown",
   "id": "137169dd",
   "metadata": {},
   "source": [
    "###  1.A: Check A Valid Triangle:¶\n",
    " - Write a program to enter three sides of a triangle from keyboard \n",
    " - and then check if a triangle is valid or not.\n",
    " - if they form a valid triangle, then print out it is valid\n",
    " - otherwise, print out it is not a valid triangle\n",
    " \n",
    " \n",
    "  **A triangle is a valid triangle, If and only If, the sum of any two sides of a triangle is greater than the third side. For Example, let A, B and C are three sides of a triangle. Then, A + B > C, B + C > A and C + A > B**\n"
   ]
  },
  {
   "cell_type": "code",
   "execution_count": 4,
   "id": "2fe6246d",
   "metadata": {
    "ExecuteTime": {
     "end_time": "2022-05-17T17:12:03.813735Z",
     "start_time": "2022-05-17T17:11:53.951650Z"
    }
   },
   "outputs": [
    {
     "name": "stdout",
     "output_type": "stream",
     "text": [
      "invalid\n"
     ]
    }
   ],
   "source": [
    "# code here\n",
    "\n",
    "side1 = int(input('type in an integer:'))\n",
    "side2 = int(input('type in an integer:'))\n",
    "side3 = int(input('type in an integer:'))\n",
    "\n",
    "if (side1 + side2 > side3) and (side1 + side3 > side2 )and (side2 + side3 > side1):\n",
    "    print('valid')\n",
    "else:\n",
    "    print('invalid')\n",
    "    \n",
    "\n",
    "\n",
    "\n",
    "\n",
    "\n",
    "\n",
    "\n"
   ]
  },
  {
   "cell_type": "markdown",
   "id": "73e2dce9",
   "metadata": {},
   "source": [
    "### 1.B: Use a loop to check many times:\n",
    "    - reuse the code in 1.A and put it inside a loop\n",
    "    - after each check, ask the user if (s)he wants to check again or not\n",
    "        - if yes, the loop goes to next round\n",
    "        - otherwise, the program stops and print(\"Good Bye!\")\n"
   ]
  },
  {
   "cell_type": "code",
   "execution_count": 2,
   "id": "74d10242",
   "metadata": {
    "ExecuteTime": {
     "end_time": "2022-09-12T12:59:34.508738Z",
     "start_time": "2022-09-12T12:59:34.496700Z"
    }
   },
   "outputs": [
    {
     "name": "stdout",
     "output_type": "stream",
     "text": [
      "valid\n",
      "Goodbye!\n"
     ]
    }
   ],
   "source": [
    "# use a infinite loop with break\n",
    "\n",
    "while True:\n",
    "    ask = input('do you want to validate your traingle?')\n",
    "    if ask == 'yes':\n",
    "        side1 = int(input('type in an integer:'))\n",
    "        side2 = int(input('type in an integer:'))\n",
    "        side3 = int(input('type in an integer:'))\n",
    "        if (side1 + side2 > side3) and (side1 + side3 > side2 )and (side2 + side3 > side1):\n",
    "            print('valid')\n",
    "        else:\n",
    "            print('invalid')\n",
    "    else:\n",
    "        print('Goodbye!')\n",
    "        break\n",
    "\n",
    "\n",
    "\n",
    "\n",
    "\n",
    "\n",
    "\n",
    "\n"
   ]
  },
  {
   "attachments": {
    "image-4.png": {
     "image/png": "[encoded data removed]"
    }
   },
   "cell_type": "markdown",
   "id": "a740603d",
   "metadata": {
    "ExecuteTime": {
     "end_time": "2022-01-19T21:56:27.628061Z",
     "start_time": "2022-01-19T21:56:27.619088Z"
    }
   },
   "source": [
    "### 2: print out the current month calendar\n",
    "\n",
    "    - use a loop to print out all 30 days in Sept.\n",
    "    - use modulus %7 to separate week,\n",
    "    - make the Sept calendar look like:\n",
    "    - given that the Sept 1st falls on Thur.\n",
    "    \n",
    "![image-4.png](attachment:image-4.png)\n",
    "\n"
   ]
  },
  {
   "cell_type": "code",
   "execution_count": 5,
   "id": "057fd33c",
   "metadata": {
    "ExecuteTime": {
     "end_time": "2022-09-12T12:59:18.392296Z",
     "start_time": "2022-09-12T12:59:18.374277Z"
    }
   },
   "outputs": [
    {
     "name": "stdout",
     "output_type": "stream",
     "text": [
      "         Sept 2022          \n",
      "Sun Mon Tue Wed Thu Fri Sat\n",
      "                   1   2   3\n",
      "   4   5   6   7   8   9  10\n",
      "  11  12  13  14  15  16  17\n",
      "  18  19  20  21  22  23  24\n",
      "  25  26  27  28  29  30"
     ]
    }
   ],
   "source": [
    "# For Sept. 2022 Calendar:\n",
    "\n",
    "# (1) print header 1\n",
    "header = 'Sept 2022'\n",
    "print(header.center(28))\n",
    " \n",
    "# (2) print header 2\n",
    "week_day = \"Sun Mon Tue Wed Thu Fri Sat\"\n",
    "print(week_day)\n",
    "\n",
    "\n",
    "# (3) print calendar, if not Sunday, move to right\n",
    "offset = 4\n",
    "print(' '*offset*4, end='')\n",
    "# (4) all 30 days in Sept. using a loop.\n",
    "days = 30\n",
    "\n",
    "for d in range(1, days +1):\n",
    "    print(f'{d:>4}', end =\"\") \n",
    "\n",
    "    if (d + offset )% 7 == 0:\n",
    "        print()\n"
   ]
  },
  {
   "cell_type": "code",
   "execution_count": null,
   "id": "91fe9b2d",
   "metadata": {},
   "outputs": [],
   "source": [
    "# end"
   ]
  }
 ],
 "metadata": {
  "hide_input": false,
  "kernelspec": {
   "display_name": "Python 3.10.1 64-bit",
   "language": "python",
   "name": "python3"
  },
  "language_info": {
   "codemirror_mode": {
    "name": "ipython",
    "version": 3
   },
   "file_extension": ".py",
   "mimetype": "text/x-python",
   "name": "python",
   "nbconvert_exporter": "python",
   "pygments_lexer": "ipython3",
   "version": "3.10.1"
  },
  "varInspector": {
   "cols": {
    "lenName": 16,
    "lenType": 16,
    "lenVar": 40
   },
   "kernels_config": {
    "python": {
     "delete_cmd_postfix": "",
     "delete_cmd_prefix": "del ",
     "library": "var_list.py",
     "varRefreshCmd": "print(var_dic_list())"
    },
    "r": {
     "delete_cmd_postfix": ") ",
     "delete_cmd_prefix": "rm(",
     "library": "var_list.r",
     "varRefreshCmd": "cat(var_dic_list()) "
    }
   },
   "types_to_exclude": [
    "module",
    "function",
    "builtin_function_or_method",
    "instance",
    "_Feature"
   ],
   "window_display": false
  },
  "vscode": {
   "interpreter": {
    "hash": "aee8b7b246df8f9039afb4144a1f6fd8d2ca17a180786b69acc140d282b71a49"
   }
  }
 },
 "nbformat": 4,
 "nbformat_minor": 5
}
