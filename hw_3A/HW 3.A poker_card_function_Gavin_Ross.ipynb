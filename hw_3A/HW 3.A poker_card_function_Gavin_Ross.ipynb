{
 "cells": [
  {
   "cell_type": "markdown",
   "metadata": {},
   "source": [
    "## HW 3.A Function \n",
    " \n",
    " due  by next Sunday (Oct. 2nd )\n",
    " \n",
    " total 20 points \n",
    "\n",
    "     We will practice more on Python\n",
    "         - functions.\n",
    "         - random\n",
    "         - logic\n",
    "         - if-condition\n",
    "         - loops\n",
    "         - list to store data\n",
    "         - documentation\n"
   ]
  },
  {
   "cell_type": "markdown",
   "metadata": {},
   "source": [
    "Instructions:\n",
    "\n",
    "    Given a deck of poker cards (total 52 card names in a list in random order). You need to\n",
    " \n",
    "    (1) Define a function which will draw a poker card from the top of deck.  \n",
    "      In the function, convert card names to points:\n",
    "        - Ace:    11 points\n",
    "        - Jack:   10 points\n",
    "        - Queen:  10 points\n",
    "        - King:   10 points\n",
    "        - Others: points = card face number\n",
    "        \n",
    "        - Return will be the card's points and card name.\n",
    "        \n",
    "    (2) Write a driver program to test the function above\n",
    "       - use a loop to draw as many cards as user wants\n",
    "       - use a list to hold the returned cards\n",
    "       - use a list to hold the returned names \n",
    "       - finally, print out total points and all cards names\n",
    "\n",
    "    * drawing card without replacing."
   ]
  },
  {
   "cell_type": "code",
   "execution_count": 1,
   "metadata": {
    "ExecuteTime": {
     "end_time": "2022-09-26T19:37:41.339863Z",
     "start_time": "2022-09-26T19:37:41.319830Z"
    }
   },
   "outputs": [
    {
     "name": "stdout",
     "output_type": "stream",
     "text": [
      "card name: jack_of_spades, points: 10\n",
      "card name: 3_of_diamonds, points: 3\n",
      "--------------------\n",
      "Total points: 13\n",
      "They are: ['jack_of_spades', '3_of_diamonds']\n"
     ]
    }
   ],
   "source": [
    "# a deck list of shuffled poker cards is given \n",
    "\n",
    "import random \n",
    "\n",
    "# (1)  deck: given list of 52 poker cards.\n",
    "\n",
    "\n",
    "\n",
    "values = [ \"ace\", \"2\", \"3\", \"4\", \"5\", \"6\", \"7\",\"8\", \"9\", \"10\", \"jack\", \"queen\", \"king\" ]\n",
    "\n",
    "suits  = [ \"clubs\", \"diamonds\", \"hearts\", \"spades\" ]\n",
    "\n",
    "deck = [ v +\"_of_\"+ s for s in suits for v in values  ] \n",
    "\n",
    "random.shuffle(deck) \n",
    "\n",
    "#deck \n",
    "\n",
    "#==============\n",
    "# you code here \n",
    "def poker():\n",
    "    points = 0\n",
    "    card_names = []\n",
    "    card_values = []\n",
    "    eleven = 'ace'\n",
    "    ten = ['jack', 'queen', 'king']\n",
    "    while True:\n",
    "        draw = input('Do you want to draw a card? y/n:')\n",
    "        if draw == 'y':\n",
    "            card = deck.pop()            \n",
    "            value = card.split('_')[0] # Take first index, which is value\n",
    "            try:\n",
    "                value = int(value)  # try if it is a number, if not pass\n",
    "            except:\n",
    "                pass\n",
    "            if value == eleven:\n",
    "                value = 11\n",
    "                points += 11\n",
    "            elif value in ten:\n",
    "                value = 10\n",
    "                points += 10\n",
    "            else:\n",
    "                points += value\n",
    "            \n",
    "            card_values.append(value)\n",
    "            card_names.append(card)\n",
    "            \n",
    "            \n",
    "            print('card name: ' + card +',', 'points:', value)\n",
    "        \n",
    "        else:\n",
    "            print('--------------------')\n",
    "            print('Total points:', points)\n",
    "            print('They are:', card_names)\n",
    "            break\n",
    "\n",
    "poker()\n",
    "        \n",
    "\n",
    "\n",
    "\n",
    "\n",
    "\n",
    "\n",
    "\n"
   ]
  },
  {
   "cell_type": "code",
   "execution_count": 1,
   "metadata": {
    "ExecuteTime": {
     "end_time": "2022-09-23T13:07:24.935898Z",
     "start_time": "2022-09-23T13:07:24.921676Z"
    }
   },
   "outputs": [],
   "source": [
    "# Test it\n",
    "\n",
    "\n",
    "\n",
    "\n",
    "\n",
    "\n",
    "\n",
    "\n",
    "\n",
    "\n",
    "\n",
    "\n"
   ]
  },
  {
   "cell_type": "markdown",
   "metadata": {},
   "source": [
    "\n",
    "Sample Run\n",
    "------------------\n",
    "\n",
    "    card name: 4_of_diamonds, point: 4\n",
    "    play again(anykey) or exit (y):\n",
    "    card name: 3_of_diamonds, point: 3\n",
    "    play again(anykey) or exit (y):\n",
    "    card name: 5_of_clubs, point: 5\n",
    "    play again(anykey) or exit (y):\n",
    "    card name: 6_of_spades, point: 6\n",
    "    play again(anykey) or exit (y):y\n",
    "    -----------------\n",
    "    Total points: 18\n",
    "    They are: ['4_of_diamonds', '3_of_diamonds', '5_of_clubs', '6_of_spades']\n",
    "\n"
   ]
  },
  {
   "cell_type": "code",
   "execution_count": 1,
   "metadata": {
    "ExecuteTime": {
     "end_time": "2022-09-26T19:41:17.660651Z",
     "start_time": "2022-09-26T19:41:17.636764Z"
    }
   },
   "outputs": [
    {
     "data": {
      "text/plain": [
       "['4', 'of', 'diamonds']"
      ]
     },
     "execution_count": 1,
     "metadata": {},
     "output_type": "execute_result"
    }
   ],
   "source": [
    "# Hint: from name to points\n",
    "\"4_of_diamonds\".split(\"_\")"
   ]
  },
  {
   "cell_type": "code",
   "execution_count": null,
   "metadata": {},
   "outputs": [],
   "source": [
    "# end"
   ]
  }
 ],
 "metadata": {
  "hide_input": false,
  "kernelspec": {
   "display_name": "Python 3.9.13 ('datasci_env')",
   "language": "python",
   "name": "python3"
  },
  "language_info": {
   "codemirror_mode": {
    "name": "ipython",
    "version": 3
   },
   "file_extension": ".py",
   "mimetype": "text/x-python",
   "name": "python",
   "nbconvert_exporter": "python",
   "pygments_lexer": "ipython3",
   "version": "3.9.13"
  },
  "toc": {
   "base_numbering": 1,
   "nav_menu": {},
   "number_sections": true,
   "sideBar": true,
   "skip_h1_title": false,
   "title_cell": "Table of Contents",
   "title_sidebar": "Contents",
   "toc_cell": false,
   "toc_position": {},
   "toc_section_display": true,
   "toc_window_display": false
  },
  "varInspector": {
   "cols": {
    "lenName": 16,
    "lenType": 16,
    "lenVar": 40
   },
   "kernels_config": {
    "python": {
     "delete_cmd_postfix": "",
     "delete_cmd_prefix": "del ",
     "library": "var_list.py",
     "varRefreshCmd": "print(var_dic_list())"
    },
    "r": {
     "delete_cmd_postfix": ") ",
     "delete_cmd_prefix": "rm(",
     "library": "var_list.r",
     "varRefreshCmd": "cat(var_dic_list()) "
    }
   },
   "types_to_exclude": [
    "module",
    "function",
    "builtin_function_or_method",
    "instance",
    "_Feature"
   ],
   "window_display": false
  },
  "vscode": {
   "interpreter": {
    "hash": "0ceb7bdb75909dd04446f2aabfbd74a860ae01334b686659b7f04454d56adc48"
   }
  }
 },
 "nbformat": 4,
 "nbformat_minor": 2
}
